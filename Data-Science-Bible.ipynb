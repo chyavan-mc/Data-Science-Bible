{
 "cells": [
  {
   "attachments": {},
   "cell_type": "markdown",
   "metadata": {},
   "source": [
    "# DATA SCIENCE BIBLE\n",
    "\n",
    "*By [Chyavan M Chandrashekar](https://github.com/chyavan-mc)*"
   ]
  },
  {
   "attachments": {},
   "cell_type": "markdown",
   "metadata": {},
   "source": [
    "## 1. Before Analysis"
   ]
  },
  {
   "attachments": {},
   "cell_type": "markdown",
   "metadata": {},
   "source": [
    "### 1.1 Data Collection\n",
    "\n",
    "When looking at collected data, identify the following before proceeding further\n",
    "* **Who**: The person or organization that created, collected, and/or funded the data collection\n",
    "* **What**: The things in the world that data could have an impact on\n",
    "* **Where**: The origin of the data\n",
    "* **When**: The time when the data was created or collected\n",
    "* **Why**: The motivation behind the creation or collection\n",
    "* **How**: The method used to create or collect it\n",
    "\n",
    "Once the data is clear, dive deeper into the distribution of the data."
   ]
  },
  {
   "attachments": {},
   "cell_type": "markdown",
   "metadata": {},
   "source": [
    "### 1.2 Data Distributions\n",
    "\n",
    "#### 1.2.1 Data distribution depending on the data collection process\n",
    "Distributions of the data can be analyzed in many ways. But first, we need to establish how the data was collected. Was it a random sample? Or was the data collected in a stratified random process?\n",
    "\n",
    "Things to keep in mind\n",
    "\n",
    "* The sample probabilities closely represent the population probabilities\n",
    "    * Advantage\n",
    "        * If there are 1% of observations cntaining people cancer, this might mean that ~1% of people in the population have cancer.\n",
    "        * This might also apply to joint, conditional, or other complex probabilities\n",
    "    * Disadvantage\n",
    "        * This might bias the machine learning algorithm, especially when classification problems are concerned and the dependent variable is imbalanced.\n",
    "\n",
    "* When stratified sampling is employed\n",
    "    * This clearly needs to be reflected in each stage of analysis and reporting\n",
    "    * US Elections, Hard voting, etc. are some examples to look into where stratified sampling might result in a strange behavior\n",
    "\n",
    "Other data collection methods to keep in mind\n",
    "* Observed\n",
    "* Tracked\n",
    "\n",
    "#### 1.2.2 Continuous Data Distributions\n",
    "#### 1.2.3 Discrete Data Distributions"
   ]
  }
 ],
 "metadata": {
  "language_info": {
   "name": "python"
  },
  "orig_nbformat": 4
 },
 "nbformat": 4,
 "nbformat_minor": 2
}
